{
 "cells": [
  {
   "cell_type": "code",
   "execution_count": 1,
   "id": "4a329b56",
   "metadata": {},
   "outputs": [],
   "source": [
    "import os.path\n",
    "import os\n",
    "import numpy as np\n",
    "import pandas as pd\n",
    "import re"
   ]
  },
  {
   "cell_type": "code",
   "execution_count": 2,
   "id": "9c1d3993",
   "metadata": {},
   "outputs": [],
   "source": [
    "df_raw = pd.read_csv('./result2.csv', sep=';')"
   ]
  },
  {
   "cell_type": "code",
   "execution_count": 3,
   "id": "71a4c16e",
   "metadata": {},
   "outputs": [
    {
     "name": "stdout",
     "output_type": "stream",
     "text": [
      "<class 'pandas.core.frame.DataFrame'>\n",
      "RangeIndex: 1506 entries, 0 to 1505\n",
      "Data columns (total 25 columns):\n",
      " #   Column              Non-Null Count  Dtype  \n",
      "---  ------              --------------  -----  \n",
      " 0   Цена за квадрат     1506 non-null   object \n",
      " 1   Тип дома            792 non-null    object \n",
      " 2   Кухня               955 non-null    object \n",
      " 3   Лифты               780 non-null    object \n",
      " 4   Название            1506 non-null   object \n",
      " 5   Строительная серия  193 non-null    object \n",
      " 6   Адрес               1506 non-null   object \n",
      " 7   Этаж                1506 non-null   object \n",
      " 8   Комнаты             1500 non-null   object \n",
      " 9   Отопление           517 non-null    object \n",
      " 10  Парковка            597 non-null    object \n",
      " 11  Общая               1506 non-null   object \n",
      " 12  Подъезды            536 non-null    float64\n",
      " 13  Год постройки       635 non-null    float64\n",
      " 14  Тип перекрытий      490 non-null    object \n",
      " 15  Метро               1460 non-null   object \n",
      " 16  Жилая               910 non-null    object \n",
      " 17  Время до метро      1366 non-null   object \n",
      " 18  Цена                1506 non-null   float64\n",
      " 19  Аварийность         637 non-null    object \n",
      " 20  Срок сдачи          444 non-null    object \n",
      " 21  Сдан                74 non-null     object \n",
      " 22  Построен            648 non-null    float64\n",
      " 23  Мусоропровод        365 non-null    object \n",
      " 24  Газоснабжение       111 non-null    object \n",
      "dtypes: float64(4), object(21)\n",
      "memory usage: 294.3+ KB\n"
     ]
    }
   ],
   "source": [
    "df_raw.info()"
   ]
  },
  {
   "cell_type": "markdown",
   "id": "0ed18d93",
   "metadata": {},
   "source": [
    "Удалим все столбцы, в которых отсутсвует более 45% данных"
   ]
  },
  {
   "cell_type": "code",
   "execution_count": 4,
   "id": "2ac73161",
   "metadata": {},
   "outputs": [
    {
     "data": {
      "text/plain": [
       "14"
      ]
     },
     "execution_count": 4,
     "metadata": {},
     "output_type": "execute_result"
    }
   ],
   "source": [
    "sum(df_raw.isna().sum() / df_raw.shape[0] > 0.45)"
   ]
  },
  {
   "cell_type": "code",
   "execution_count": 5,
   "id": "64fc9ed2",
   "metadata": {},
   "outputs": [],
   "source": [
    "empty_data = df_raw.isna().sum().sort_values()[-16:]"
   ]
  },
  {
   "cell_type": "code",
   "execution_count": 6,
   "id": "c6b37829",
   "metadata": {},
   "outputs": [],
   "source": [
    "df_raw.drop(empty_data.index, axis=1, inplace=True)"
   ]
  },
  {
   "cell_type": "markdown",
   "id": "266b9904",
   "metadata": {},
   "source": [
    "Удалим столбец \"название\" так как для обучения модели он не даст полезной информации и \"Комнаты\" т.к туда попала информация о ремонте + много мусора про риелтора и прочее"
   ]
  },
  {
   "cell_type": "code",
   "execution_count": 7,
   "id": "c4ec54ca",
   "metadata": {},
   "outputs": [],
   "source": [
    "df_raw.drop('Название', axis=1, inplace=True)"
   ]
  },
  {
   "cell_type": "code",
   "execution_count": 8,
   "id": "214738ed",
   "metadata": {},
   "outputs": [],
   "source": [
    "df_raw.drop('Комнаты', axis=1, inplace=True)"
   ]
  },
  {
   "cell_type": "markdown",
   "id": "b306b4d5",
   "metadata": {},
   "source": [
    "Разделим столбец Этаж на два: фактический этаж квартиры и высота всего здания"
   ]
  },
  {
   "cell_type": "code",
   "execution_count": 9,
   "id": "920255e8",
   "metadata": {},
   "outputs": [],
   "source": [
    "split_columns = df_raw['Этаж'].str.split(' ', expand=True)"
   ]
  },
  {
   "cell_type": "code",
   "execution_count": 10,
   "id": "d0b1b829",
   "metadata": {},
   "outputs": [],
   "source": [
    "df_raw['Этаж'] = split_columns[0]\n",
    "df_raw['Этажность здания'] = split_columns[2]"
   ]
  },
  {
   "cell_type": "code",
   "execution_count": 11,
   "id": "8c05f141",
   "metadata": {},
   "outputs": [],
   "source": [
    "df_raw['Этаж'] = df_raw['Этаж'].astype(int)"
   ]
  },
  {
   "cell_type": "code",
   "execution_count": 12,
   "id": "a82dbad4",
   "metadata": {},
   "outputs": [],
   "source": [
    "df_raw['Этажность здания'] = df_raw['Этажность здания'].astype(int)"
   ]
  },
  {
   "cell_type": "markdown",
   "id": "1beb92d8",
   "metadata": {},
   "source": [
    "Очистим столбцы от ненужных символов"
   ]
  },
  {
   "cell_type": "code",
   "execution_count": 13,
   "id": "7b66a2f9",
   "metadata": {},
   "outputs": [],
   "source": [
    "split_columns = df_raw['Общая'].str.replace(',', '.').str.replace(' ', '').str.split('\\xa0', expand=True)\n",
    "df_raw['Общая'] = split_columns[0].astype(float)"
   ]
  },
  {
   "cell_type": "code",
   "execution_count": 14,
   "id": "9cd943bf",
   "metadata": {},
   "outputs": [],
   "source": [
    "df_raw['Цена за квадрат'] = df_raw['Цена за квадрат'].str.replace(' ', '').str.replace('\\xa0', '').astype(float)"
   ]
  },
  {
   "cell_type": "markdown",
   "id": "50093b27",
   "metadata": {},
   "source": [
    "Разделим время до метро на кол-во минут и способ передвижения"
   ]
  },
  {
   "cell_type": "code",
   "execution_count": 15,
   "id": "ac08b60f",
   "metadata": {},
   "outputs": [],
   "source": [
    "split_subway = df_raw['Время до метро'].str.split(' ', n=4, expand=True)"
   ]
  },
  {
   "cell_type": "code",
   "execution_count": 16,
   "id": "9cbc2e08",
   "metadata": {},
   "outputs": [],
   "source": [
    "df_raw['Время'] = split_subway[2]\n",
    "df_raw['Способ передвижения'] = split_subway[4]"
   ]
  },
  {
   "cell_type": "code",
   "execution_count": 17,
   "id": "5dc60c11",
   "metadata": {},
   "outputs": [],
   "source": [
    "df_raw = df_raw.drop(['Время до метро'], axis=1)"
   ]
  },
  {
   "cell_type": "markdown",
   "id": "5fabfe83",
   "metadata": {},
   "source": [
    "Проверим, какие данные у нас получились во времени и заменим на более точные данные, плюс отфильтруем по тем, что более 30 мин"
   ]
  },
  {
   "cell_type": "code",
   "execution_count": 18,
   "id": "280f12c6",
   "metadata": {},
   "outputs": [
    {
     "data": {
      "text/plain": [
       "array(['13', '5', '6', '14', '20', '7', '1', '2', '19', '9', '8', '3',\n",
       "       '15', '26', '28', '12', '10', '4', '18', '23', '11', '17', '22',\n",
       "       '16', nan, '32', '25', '29', '<1', '21', '24', '27', '2022', '54',\n",
       "       '40', '50', '30'], dtype=object)"
      ]
     },
     "execution_count": 18,
     "metadata": {},
     "output_type": "execute_result"
    }
   ],
   "source": [
    "df_raw['Время'].unique()"
   ]
  },
  {
   "cell_type": "code",
   "execution_count": 19,
   "id": "f579ef78",
   "metadata": {},
   "outputs": [],
   "source": [
    "df_raw['Время'] = df_raw['Время'].str.replace('<1', '0').astype(float)"
   ]
  },
  {
   "cell_type": "code",
   "execution_count": 20,
   "id": "02e63e40",
   "metadata": {},
   "outputs": [],
   "source": [
    "df_raw = df_raw[df_raw['Время'] < 30]"
   ]
  },
  {
   "cell_type": "markdown",
   "id": "ad3dcf28",
   "metadata": {},
   "source": [
    "Удалим строки, в которых значения таргета неизвестно, если такие есть"
   ]
  },
  {
   "cell_type": "code",
   "execution_count": 21,
   "id": "129950fb",
   "metadata": {
    "scrolled": false
   },
   "outputs": [
    {
     "data": {
      "text/plain": [
       "Цена за квадрат        0\n",
       "Адрес                  0\n",
       "Этаж                   0\n",
       "Общая                  0\n",
       "Метро                  0\n",
       "Цена                   0\n",
       "Этажность здания       0\n",
       "Время                  0\n",
       "Способ передвижения    0\n",
       "dtype: int64"
      ]
     },
     "execution_count": 21,
     "metadata": {},
     "output_type": "execute_result"
    }
   ],
   "source": [
    "df_raw.isna().sum().sort_values()"
   ]
  },
  {
   "cell_type": "code",
   "execution_count": 22,
   "id": "de31e2ba",
   "metadata": {},
   "outputs": [],
   "source": [
    "df_raw = df_raw[df_raw['Цена'].notna()]"
   ]
  },
  {
   "cell_type": "markdown",
   "id": "4a0dee01",
   "metadata": {},
   "source": [
    "Переведем наши адреса в координаты"
   ]
  },
  {
   "cell_type": "code",
   "execution_count": 23,
   "id": "01a3ebee",
   "metadata": {},
   "outputs": [],
   "source": [
    "from geopy.geocoders import GoogleV3"
   ]
  },
  {
   "cell_type": "code",
   "execution_count": 24,
   "id": "93364b4f",
   "metadata": {},
   "outputs": [],
   "source": [
    "geolocator = GoogleV3(api_key='user') #стерла свой адрес, при использовании подключала аккаунт гугла"
   ]
  },
  {
   "cell_type": "code",
   "execution_count": 29,
   "id": "9aa82a1f",
   "metadata": {},
   "outputs": [],
   "source": [
    "from geopy.extra.rate_limiter import RateLimiter\n",
    "geocode = RateLimiter(geolocator.geocode, min_delay_seconds=0.1)"
   ]
  },
  {
   "cell_type": "code",
   "execution_count": 30,
   "id": "dc2773cd",
   "metadata": {},
   "outputs": [
    {
     "data": {
      "text/plain": [
       "Location(Lianozovo, Moskva, Russia, 127253, (55.897353, 37.553153, 0.0))"
      ]
     },
     "execution_count": 30,
     "metadata": {},
     "output_type": "execute_result"
    }
   ],
   "source": [
    "geocode('Москва, метро Лианозово', timeout=10)"
   ]
  },
  {
   "cell_type": "code",
   "execution_count": 31,
   "id": "32578eb1",
   "metadata": {},
   "outputs": [],
   "source": [
    "df_raw['Город и метро'] = 'Москва, метро ' + df_raw['Метро']"
   ]
  },
  {
   "cell_type": "code",
   "execution_count": 32,
   "id": "bbc33dbb",
   "metadata": {},
   "outputs": [],
   "source": [
    "df_raw['Город и метро'] = df_raw['Город и метро'].apply(geocode, timeout=10)\n",
    "df_raw['Координаты метро'] = df_raw['Город и метро'].apply(lambda loc: tuple(loc.point) if loc else None)"
   ]
  },
  {
   "cell_type": "code",
   "execution_count": 34,
   "id": "70eeeab3",
   "metadata": {},
   "outputs": [],
   "source": [
    "df_raw['Адрес'] = df_raw['Адрес'].apply(geocode, timeout=10)"
   ]
  },
  {
   "cell_type": "code",
   "execution_count": 35,
   "id": "0b7f3a0c",
   "metadata": {},
   "outputs": [],
   "source": [
    "df_raw['Координаты дома'] = df_raw['Адрес'].apply(lambda loc: tuple(loc.point) if loc else None)"
   ]
  },
  {
   "cell_type": "code",
   "execution_count": 37,
   "id": "bbe31652",
   "metadata": {},
   "outputs": [],
   "source": [
    "df_raw = df_raw[df_raw['Координаты дома'].notna()]"
   ]
  },
  {
   "cell_type": "code",
   "execution_count": 38,
   "id": "8a34a468",
   "metadata": {},
   "outputs": [],
   "source": [
    "df_raw['Широта дома'] = df_raw['Координаты дома'].apply(lambda x: x[0])\n",
    "df_raw['Долгота дома'] = df_raw['Координаты дома'].apply(lambda x: x[1])"
   ]
  },
  {
   "cell_type": "code",
   "execution_count": 39,
   "id": "24528902",
   "metadata": {},
   "outputs": [],
   "source": [
    "df_raw['Широта метро'] = df_raw['Координаты метро'].apply(lambda x: x[0])\n",
    "df_raw['Долгота метро'] = df_raw['Координаты метро'].apply(lambda x: x[1])"
   ]
  },
  {
   "cell_type": "code",
   "execution_count": 40,
   "id": "09f578c1",
   "metadata": {},
   "outputs": [],
   "source": [
    "df_raw = df_raw.drop(['Координаты метро', 'Координаты дома', 'Город и метро'], axis=1)"
   ]
  },
  {
   "cell_type": "code",
   "execution_count": 41,
   "id": "c9d79fb9",
   "metadata": {},
   "outputs": [],
   "source": [
    "df_raw = df_raw.drop(columns=['Адрес', 'Способ передвижения', 'Время'], axis=1)"
   ]
  },
  {
   "cell_type": "markdown",
   "id": "8bb83acf",
   "metadata": {},
   "source": [
    "Добавим расстояние от дома до центра города"
   ]
  },
  {
   "cell_type": "code",
   "execution_count": 42,
   "id": "9a3ce302",
   "metadata": {},
   "outputs": [],
   "source": [
    "from geopy import distance\n",
    "\n",
    "lon_center, lat_center = 55.753595, 37.621031"
   ]
  },
  {
   "cell_type": "code",
   "execution_count": 43,
   "id": "dc0ebfed",
   "metadata": {},
   "outputs": [],
   "source": [
    "df_raw['До центра'] = df_raw[['Широта дома', 'Долгота дома']].apply(\n",
    "    lambda x: distance.distance((x[0],x[1]),(lon_center, lat_center)).km, axis = 1\n",
    ")"
   ]
  },
  {
   "cell_type": "code",
   "execution_count": 44,
   "id": "63d6bc1b",
   "metadata": {},
   "outputs": [],
   "source": [
    "df_raw['До метро'] = df_raw[['Широта дома', 'Долгота дома', 'Широта метро', 'Долгота метро']].apply(\n",
    "    lambda x: distance.distance((x[0],x[1]),(x[2],x[3])).km, axis = 1\n",
    ")"
   ]
  },
  {
   "cell_type": "code",
   "execution_count": 45,
   "id": "d3a9aab3",
   "metadata": {},
   "outputs": [
    {
     "data": {
      "text/plain": [
       "(1356, 12)"
      ]
     },
     "execution_count": 45,
     "metadata": {},
     "output_type": "execute_result"
    }
   ],
   "source": [
    "df_raw = df_raw[df_raw['До центра'] < 35]\n",
    "df_raw.shape"
   ]
  },
  {
   "cell_type": "code",
   "execution_count": 46,
   "id": "8b5a04dc",
   "metadata": {},
   "outputs": [],
   "source": [
    "import math"
   ]
  },
  {
   "cell_type": "code",
   "execution_count": 47,
   "id": "06636f5a",
   "metadata": {},
   "outputs": [],
   "source": [
    "def azimute(long, lat):\n",
    "    #pi - число pi, rad - радиус сферы (Земли)\n",
    "    rad = 6372795\n",
    " \n",
    "    #координаты двух точек\n",
    "    llat1 = lat\n",
    "    llong1 = long\n",
    "\n",
    "    llat2 = lat_center\n",
    "    llong2 = lon_center\n",
    "\n",
    "    #в радианах\n",
    "    lat1 = llat1*math.pi/180.\n",
    "    lat2 = llat2*math.pi/180.\n",
    "    long1 = llong1*math.pi/180.\n",
    "    long2 = llong2*math.pi/180.\n",
    "\n",
    "    #косинусы и синусы широт и разницы долгот\n",
    "    cl1 = math.cos(lat1)\n",
    "    cl2 = math.cos(lat2)\n",
    "    sl1 = math.sin(lat1)\n",
    "    sl2 = math.sin(lat2)\n",
    "    delta = long2 - long1\n",
    "    cdelta = math.cos(delta)\n",
    "    sdelta = math.sin(delta)\n",
    "\n",
    "    #вычисления длины большого круга\n",
    "    y = math.sqrt(math.pow(cl2*sdelta,2)+math.pow(cl1*sl2-sl1*cl2*cdelta,2))\n",
    "    x = sl1*sl2+cl1*cl2*cdelta\n",
    "    ad = math.atan2(y,x)\n",
    "    dist = ad*rad\n",
    "\n",
    "    #вычисление начального азимута\n",
    "    x = (cl1*sl2) - (sl1*cl2*cdelta)\n",
    "    y = sdelta*cl2\n",
    "    z = math.degrees(math.atan(-y/x))\n",
    "\n",
    "    if (x < 0):\n",
    "        z = z+180.\n",
    "\n",
    "    z2 = (z+180.) % 360. - 180.\n",
    "    z2 = - math.radians(z2)\n",
    "    anglerad2 = z2 - ((2*math.pi)*math.floor((z2/(2*math.pi))) )\n",
    "    angledeg = (anglerad2*180.)/math.pi\n",
    "    \n",
    "    return round(angledeg, 3)"
   ]
  },
  {
   "cell_type": "code",
   "execution_count": 48,
   "id": "31357461",
   "metadata": {},
   "outputs": [],
   "source": [
    "df_raw['Азимут'] = df_raw[['Широта дома', 'Долгота дома']].apply(\n",
    "    lambda x: azimute(x[0],x[1]), axis = 1\n",
    ")"
   ]
  },
  {
   "cell_type": "code",
   "execution_count": 49,
   "id": "e441ee3e",
   "metadata": {},
   "outputs": [
    {
     "name": "stdout",
     "output_type": "stream",
     "text": [
      "<class 'pandas.core.frame.DataFrame'>\n",
      "Int64Index: 1356 entries, 0 to 1503\n",
      "Data columns (total 13 columns):\n",
      " #   Column            Non-Null Count  Dtype  \n",
      "---  ------            --------------  -----  \n",
      " 0   Цена за квадрат   1356 non-null   float64\n",
      " 1   Этаж              1356 non-null   int64  \n",
      " 2   Общая             1356 non-null   float64\n",
      " 3   Метро             1356 non-null   object \n",
      " 4   Цена              1356 non-null   float64\n",
      " 5   Этажность здания  1356 non-null   int64  \n",
      " 6   Широта дома       1356 non-null   float64\n",
      " 7   Долгота дома      1356 non-null   float64\n",
      " 8   Широта метро      1356 non-null   float64\n",
      " 9   Долгота метро     1356 non-null   float64\n",
      " 10  До центра         1356 non-null   float64\n",
      " 11  До метро          1356 non-null   float64\n",
      " 12  Азимут            1356 non-null   float64\n",
      "dtypes: float64(10), int64(2), object(1)\n",
      "memory usage: 148.3+ KB\n"
     ]
    }
   ],
   "source": [
    "df_raw.info()"
   ]
  },
  {
   "cell_type": "code",
   "execution_count": 52,
   "id": "f2d406a5",
   "metadata": {},
   "outputs": [],
   "source": [
    "df_raw.to_csv('clean_data.csv', index=False)"
   ]
  },
  {
   "cell_type": "code",
   "execution_count": 51,
   "id": "d6f616b3",
   "metadata": {},
   "outputs": [
    {
     "data": {
      "text/html": [
       "<div>\n",
       "<style scoped>\n",
       "    .dataframe tbody tr th:only-of-type {\n",
       "        vertical-align: middle;\n",
       "    }\n",
       "\n",
       "    .dataframe tbody tr th {\n",
       "        vertical-align: top;\n",
       "    }\n",
       "\n",
       "    .dataframe thead th {\n",
       "        text-align: right;\n",
       "    }\n",
       "</style>\n",
       "<table border=\"1\" class=\"dataframe\">\n",
       "  <thead>\n",
       "    <tr style=\"text-align: right;\">\n",
       "      <th></th>\n",
       "      <th>Цена за квадрат</th>\n",
       "      <th>Этаж</th>\n",
       "      <th>Общая</th>\n",
       "      <th>Метро</th>\n",
       "      <th>Цена</th>\n",
       "      <th>Этажность здания</th>\n",
       "      <th>Широта дома</th>\n",
       "      <th>Долгота дома</th>\n",
       "      <th>Широта метро</th>\n",
       "      <th>Долгота метро</th>\n",
       "      <th>До центра</th>\n",
       "      <th>До метро</th>\n",
       "      <th>Азимут</th>\n",
       "    </tr>\n",
       "  </thead>\n",
       "  <tbody>\n",
       "    <tr>\n",
       "      <th>0</th>\n",
       "      <td>752522.0</td>\n",
       "      <td>9</td>\n",
       "      <td>99.52</td>\n",
       "      <td>Парк Победы</td>\n",
       "      <td>74890993.0</td>\n",
       "      <td>10</td>\n",
       "      <td>55.731342</td>\n",
       "      <td>37.514950</td>\n",
       "      <td>55.735885</td>\n",
       "      <td>37.517492</td>\n",
       "      <td>7.108388</td>\n",
       "      <td>0.530374</td>\n",
       "      <td>9.433</td>\n",
       "    </tr>\n",
       "    <tr>\n",
       "      <th>1</th>\n",
       "      <td>279208.0</td>\n",
       "      <td>4</td>\n",
       "      <td>60.60</td>\n",
       "      <td>Лианозово</td>\n",
       "      <td>16920000.0</td>\n",
       "      <td>16</td>\n",
       "      <td>55.894126</td>\n",
       "      <td>37.521438</td>\n",
       "      <td>55.897353</td>\n",
       "      <td>37.553153</td>\n",
       "      <td>16.845703</td>\n",
       "      <td>2.016353</td>\n",
       "      <td>311.844</td>\n",
       "    </tr>\n",
       "    <tr>\n",
       "      <th>2</th>\n",
       "      <td>2117647.0</td>\n",
       "      <td>5</td>\n",
       "      <td>139.90</td>\n",
       "      <td>Смоленская</td>\n",
       "      <td>296258823.0</td>\n",
       "      <td>5</td>\n",
       "      <td>55.748779</td>\n",
       "      <td>37.589725</td>\n",
       "      <td>55.747261</td>\n",
       "      <td>37.581945</td>\n",
       "      <td>2.037621</td>\n",
       "      <td>0.516970</td>\n",
       "      <td>6.947</td>\n",
       "    </tr>\n",
       "    <tr>\n",
       "      <th>3</th>\n",
       "      <td>548263.0</td>\n",
       "      <td>3</td>\n",
       "      <td>129.50</td>\n",
       "      <td>Минская</td>\n",
       "      <td>71000000.0</td>\n",
       "      <td>14</td>\n",
       "      <td>55.724524</td>\n",
       "      <td>37.496757</td>\n",
       "      <td>55.724791</td>\n",
       "      <td>37.496755</td>\n",
       "      <td>8.450356</td>\n",
       "      <td>0.029683</td>\n",
       "      <td>10.497</td>\n",
       "    </tr>\n",
       "    <tr>\n",
       "      <th>4</th>\n",
       "      <td>445920.0</td>\n",
       "      <td>6</td>\n",
       "      <td>52.70</td>\n",
       "      <td>Беломорская</td>\n",
       "      <td>23500000.0</td>\n",
       "      <td>20</td>\n",
       "      <td>55.869825</td>\n",
       "      <td>37.457761</td>\n",
       "      <td>55.864057</td>\n",
       "      <td>37.463808</td>\n",
       "      <td>16.499986</td>\n",
       "      <td>0.745486</td>\n",
       "      <td>330.591</td>\n",
       "    </tr>\n",
       "    <tr>\n",
       "      <th>...</th>\n",
       "      <td>...</td>\n",
       "      <td>...</td>\n",
       "      <td>...</td>\n",
       "      <td>...</td>\n",
       "      <td>...</td>\n",
       "      <td>...</td>\n",
       "      <td>...</td>\n",
       "      <td>...</td>\n",
       "      <td>...</td>\n",
       "      <td>...</td>\n",
       "      <td>...</td>\n",
       "      <td>...</td>\n",
       "      <td>...</td>\n",
       "    </tr>\n",
       "    <tr>\n",
       "      <th>1498</th>\n",
       "      <td>250000.0</td>\n",
       "      <td>5</td>\n",
       "      <td>16.20</td>\n",
       "      <td>Андроновка</td>\n",
       "      <td>4050000.0</td>\n",
       "      <td>6</td>\n",
       "      <td>55.748092</td>\n",
       "      <td>37.731480</td>\n",
       "      <td>55.747354</td>\n",
       "      <td>37.738067</td>\n",
       "      <td>6.962497</td>\n",
       "      <td>0.421743</td>\n",
       "      <td>177.740</td>\n",
       "    </tr>\n",
       "    <tr>\n",
       "      <th>1499</th>\n",
       "      <td>442857.0</td>\n",
       "      <td>4</td>\n",
       "      <td>14.00</td>\n",
       "      <td>Проспект Вернадского</td>\n",
       "      <td>6200000.0</td>\n",
       "      <td>10</td>\n",
       "      <td>55.673548</td>\n",
       "      <td>37.503676</td>\n",
       "      <td>55.677108</td>\n",
       "      <td>37.505945</td>\n",
       "      <td>11.568649</td>\n",
       "      <td>0.421240</td>\n",
       "      <td>28.375</td>\n",
       "    </tr>\n",
       "    <tr>\n",
       "      <th>1500</th>\n",
       "      <td>547619.0</td>\n",
       "      <td>2</td>\n",
       "      <td>21.00</td>\n",
       "      <td>Авиамоторная</td>\n",
       "      <td>11500000.0</td>\n",
       "      <td>18</td>\n",
       "      <td>55.756947</td>\n",
       "      <td>37.700501</td>\n",
       "      <td>55.751077</td>\n",
       "      <td>37.717072</td>\n",
       "      <td>5.003589</td>\n",
       "      <td>1.228690</td>\n",
       "      <td>181.913</td>\n",
       "    </tr>\n",
       "    <tr>\n",
       "      <th>1502</th>\n",
       "      <td>300905.0</td>\n",
       "      <td>4</td>\n",
       "      <td>44.20</td>\n",
       "      <td>Беломорская</td>\n",
       "      <td>13300000.0</td>\n",
       "      <td>9</td>\n",
       "      <td>55.862463</td>\n",
       "      <td>37.512079</td>\n",
       "      <td>55.864057</td>\n",
       "      <td>37.463808</td>\n",
       "      <td>13.913727</td>\n",
       "      <td>3.027620</td>\n",
       "      <td>321.653</td>\n",
       "    </tr>\n",
       "    <tr>\n",
       "      <th>1503</th>\n",
       "      <td>290933.0</td>\n",
       "      <td>22</td>\n",
       "      <td>24.60</td>\n",
       "      <td>Бунинская аллея</td>\n",
       "      <td>7156964.0</td>\n",
       "      <td>23</td>\n",
       "      <td>55.494761</td>\n",
       "      <td>37.554712</td>\n",
       "      <td>55.529540</td>\n",
       "      <td>37.519592</td>\n",
       "      <td>29.118589</td>\n",
       "      <td>4.462719</td>\n",
       "      <td>72.003</td>\n",
       "    </tr>\n",
       "  </tbody>\n",
       "</table>\n",
       "<p>1356 rows × 13 columns</p>\n",
       "</div>"
      ],
      "text/plain": [
       "      Цена за квадрат  Этаж   Общая                 Метро         Цена  \\\n",
       "0            752522.0     9   99.52           Парк Победы   74890993.0   \n",
       "1            279208.0     4   60.60             Лианозово   16920000.0   \n",
       "2           2117647.0     5  139.90            Смоленская  296258823.0   \n",
       "3            548263.0     3  129.50               Минская   71000000.0   \n",
       "4            445920.0     6   52.70           Беломорская   23500000.0   \n",
       "...               ...   ...     ...                   ...          ...   \n",
       "1498         250000.0     5   16.20            Андроновка    4050000.0   \n",
       "1499         442857.0     4   14.00  Проспект Вернадского    6200000.0   \n",
       "1500         547619.0     2   21.00          Авиамоторная   11500000.0   \n",
       "1502         300905.0     4   44.20           Беломорская   13300000.0   \n",
       "1503         290933.0    22   24.60       Бунинская аллея    7156964.0   \n",
       "\n",
       "      Этажность здания  Широта дома  Долгота дома  Широта метро  \\\n",
       "0                   10    55.731342     37.514950     55.735885   \n",
       "1                   16    55.894126     37.521438     55.897353   \n",
       "2                    5    55.748779     37.589725     55.747261   \n",
       "3                   14    55.724524     37.496757     55.724791   \n",
       "4                   20    55.869825     37.457761     55.864057   \n",
       "...                ...          ...           ...           ...   \n",
       "1498                 6    55.748092     37.731480     55.747354   \n",
       "1499                10    55.673548     37.503676     55.677108   \n",
       "1500                18    55.756947     37.700501     55.751077   \n",
       "1502                 9    55.862463     37.512079     55.864057   \n",
       "1503                23    55.494761     37.554712     55.529540   \n",
       "\n",
       "      Долгота метро  До центра  До метро   Азимут  \n",
       "0         37.517492   7.108388  0.530374    9.433  \n",
       "1         37.553153  16.845703  2.016353  311.844  \n",
       "2         37.581945   2.037621  0.516970    6.947  \n",
       "3         37.496755   8.450356  0.029683   10.497  \n",
       "4         37.463808  16.499986  0.745486  330.591  \n",
       "...             ...        ...       ...      ...  \n",
       "1498      37.738067   6.962497  0.421743  177.740  \n",
       "1499      37.505945  11.568649  0.421240   28.375  \n",
       "1500      37.717072   5.003589  1.228690  181.913  \n",
       "1502      37.463808  13.913727  3.027620  321.653  \n",
       "1503      37.519592  29.118589  4.462719   72.003  \n",
       "\n",
       "[1356 rows x 13 columns]"
      ]
     },
     "execution_count": 51,
     "metadata": {},
     "output_type": "execute_result"
    }
   ],
   "source": [
    "df_raw"
   ]
  },
  {
   "cell_type": "code",
   "execution_count": null,
   "id": "ff086693",
   "metadata": {},
   "outputs": [],
   "source": []
  }
 ],
 "metadata": {
  "kernelspec": {
   "display_name": "Python 3 (ipykernel)",
   "language": "python",
   "name": "python3"
  },
  "language_info": {
   "codemirror_mode": {
    "name": "ipython",
    "version": 3
   },
   "file_extension": ".py",
   "mimetype": "text/x-python",
   "name": "python",
   "nbconvert_exporter": "python",
   "pygments_lexer": "ipython3",
   "version": "3.8.8"
  }
 },
 "nbformat": 4,
 "nbformat_minor": 5
}
