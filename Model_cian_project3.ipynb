{
 "cells": [
  {
   "cell_type": "code",
   "execution_count": 18,
   "id": "24dbbe5d",
   "metadata": {},
   "outputs": [],
   "source": [
    "import pandas as pd\n",
    "import numpy as np\n",
    "from sklearn import model_selection, linear_model, metrics\n",
    "import xgboost\n",
    "import warnings\n",
    "from sklearn import preprocessing\n",
    "import matplotlib.pyplot as plt\n",
    "import pickle\n",
    "from sklearn.impute import SimpleImputer\n",
    "from xgboost import XGBClassifier, XGBRegressor\n",
    "\n",
    "warnings.filterwarnings(\"ignore\")\n"
   ]
  },
  {
   "cell_type": "code",
   "execution_count": 4,
   "id": "063b25d8",
   "metadata": {},
   "outputs": [
    {
     "data": {
      "text/html": [
       "<div>\n",
       "<style scoped>\n",
       "    .dataframe tbody tr th:only-of-type {\n",
       "        vertical-align: middle;\n",
       "    }\n",
       "\n",
       "    .dataframe tbody tr th {\n",
       "        vertical-align: top;\n",
       "    }\n",
       "\n",
       "    .dataframe thead th {\n",
       "        text-align: right;\n",
       "    }\n",
       "</style>\n",
       "<table border=\"1\" class=\"dataframe\">\n",
       "  <thead>\n",
       "    <tr style=\"text-align: right;\">\n",
       "      <th></th>\n",
       "      <th>Цена за квадрат</th>\n",
       "      <th>Этаж</th>\n",
       "      <th>Общая</th>\n",
       "      <th>Метро</th>\n",
       "      <th>Цена</th>\n",
       "      <th>Этажность здания</th>\n",
       "      <th>Широта дома</th>\n",
       "      <th>Долгота дома</th>\n",
       "      <th>Широта метро</th>\n",
       "      <th>Долгота метро</th>\n",
       "      <th>До центра</th>\n",
       "      <th>До метро</th>\n",
       "      <th>Азимут</th>\n",
       "    </tr>\n",
       "  </thead>\n",
       "  <tbody>\n",
       "    <tr>\n",
       "      <th>0</th>\n",
       "      <td>752522.0</td>\n",
       "      <td>9</td>\n",
       "      <td>99.52</td>\n",
       "      <td>Парк Победы</td>\n",
       "      <td>74890993.0</td>\n",
       "      <td>10</td>\n",
       "      <td>55.731342</td>\n",
       "      <td>37.514950</td>\n",
       "      <td>55.735885</td>\n",
       "      <td>37.517492</td>\n",
       "      <td>7.108388</td>\n",
       "      <td>0.530374</td>\n",
       "      <td>9.433</td>\n",
       "    </tr>\n",
       "    <tr>\n",
       "      <th>1</th>\n",
       "      <td>279208.0</td>\n",
       "      <td>4</td>\n",
       "      <td>60.60</td>\n",
       "      <td>Лианозово</td>\n",
       "      <td>16920000.0</td>\n",
       "      <td>16</td>\n",
       "      <td>55.894126</td>\n",
       "      <td>37.521438</td>\n",
       "      <td>55.897353</td>\n",
       "      <td>37.553153</td>\n",
       "      <td>16.845703</td>\n",
       "      <td>2.016353</td>\n",
       "      <td>311.844</td>\n",
       "    </tr>\n",
       "    <tr>\n",
       "      <th>2</th>\n",
       "      <td>2117647.0</td>\n",
       "      <td>5</td>\n",
       "      <td>139.90</td>\n",
       "      <td>Смоленская</td>\n",
       "      <td>296258823.0</td>\n",
       "      <td>5</td>\n",
       "      <td>55.748779</td>\n",
       "      <td>37.589725</td>\n",
       "      <td>55.747261</td>\n",
       "      <td>37.581945</td>\n",
       "      <td>2.037621</td>\n",
       "      <td>0.516970</td>\n",
       "      <td>6.947</td>\n",
       "    </tr>\n",
       "    <tr>\n",
       "      <th>3</th>\n",
       "      <td>548263.0</td>\n",
       "      <td>3</td>\n",
       "      <td>129.50</td>\n",
       "      <td>Минская</td>\n",
       "      <td>71000000.0</td>\n",
       "      <td>14</td>\n",
       "      <td>55.724524</td>\n",
       "      <td>37.496757</td>\n",
       "      <td>55.724791</td>\n",
       "      <td>37.496755</td>\n",
       "      <td>8.450356</td>\n",
       "      <td>0.029683</td>\n",
       "      <td>10.497</td>\n",
       "    </tr>\n",
       "    <tr>\n",
       "      <th>4</th>\n",
       "      <td>445920.0</td>\n",
       "      <td>6</td>\n",
       "      <td>52.70</td>\n",
       "      <td>Беломорская</td>\n",
       "      <td>23500000.0</td>\n",
       "      <td>20</td>\n",
       "      <td>55.869825</td>\n",
       "      <td>37.457761</td>\n",
       "      <td>55.864057</td>\n",
       "      <td>37.463808</td>\n",
       "      <td>16.499986</td>\n",
       "      <td>0.745486</td>\n",
       "      <td>330.591</td>\n",
       "    </tr>\n",
       "  </tbody>\n",
       "</table>\n",
       "</div>"
      ],
      "text/plain": [
       "   Цена за квадрат  Этаж   Общая        Метро         Цена  Этажность здания  \\\n",
       "0         752522.0     9   99.52  Парк Победы   74890993.0                10   \n",
       "1         279208.0     4   60.60    Лианозово   16920000.0                16   \n",
       "2        2117647.0     5  139.90   Смоленская  296258823.0                 5   \n",
       "3         548263.0     3  129.50      Минская   71000000.0                14   \n",
       "4         445920.0     6   52.70  Беломорская   23500000.0                20   \n",
       "\n",
       "   Широта дома  Долгота дома  Широта метро  Долгота метро  До центра  \\\n",
       "0    55.731342     37.514950     55.735885      37.517492   7.108388   \n",
       "1    55.894126     37.521438     55.897353      37.553153  16.845703   \n",
       "2    55.748779     37.589725     55.747261      37.581945   2.037621   \n",
       "3    55.724524     37.496757     55.724791      37.496755   8.450356   \n",
       "4    55.869825     37.457761     55.864057      37.463808  16.499986   \n",
       "\n",
       "   До метро   Азимут  \n",
       "0  0.530374    9.433  \n",
       "1  2.016353  311.844  \n",
       "2  0.516970    6.947  \n",
       "3  0.029683   10.497  \n",
       "4  0.745486  330.591  "
      ]
     },
     "execution_count": 4,
     "metadata": {},
     "output_type": "execute_result"
    }
   ],
   "source": [
    "df_cian = pd.read_csv('clean_data.csv')\n",
    "df_cian.head()"
   ]
  },
  {
   "cell_type": "code",
   "execution_count": 7,
   "id": "bdeeb393",
   "metadata": {},
   "outputs": [],
   "source": [
    "drop_columns = ['Цена', 'Цена за квадрат', 'Метро','Широта метро','Долгота метро']"
   ]
  },
  {
   "cell_type": "code",
   "execution_count": 9,
   "id": "0ccee0a1",
   "metadata": {},
   "outputs": [],
   "source": [
    "X = df_cian.drop(columns=drop_columns, axis=1)\n",
    "y = df_cian['Цена за квадрат']"
   ]
  },
  {
   "cell_type": "code",
   "execution_count": 10,
   "id": "99c33900",
   "metadata": {},
   "outputs": [],
   "source": [
    "X_train, X_test, y_train, y_test = model_selection.train_test_split(X, y, test_size=0.33, random_state=42)"
   ]
  },
  {
   "cell_type": "code",
   "execution_count": 11,
   "id": "21bf5d95",
   "metadata": {},
   "outputs": [],
   "source": [
    "imputer = SimpleImputer(missing_values=np.nan, strategy='median')"
   ]
  },
  {
   "cell_type": "code",
   "execution_count": 12,
   "id": "3484e372",
   "metadata": {},
   "outputs": [],
   "source": [
    "imputer.fit(X_train)\n",
    "X_train = imputer.transform(X_train)\n",
    "X_test = imputer.transform(X_test)"
   ]
  },
  {
   "cell_type": "code",
   "execution_count": 13,
   "id": "5cb80e2c",
   "metadata": {},
   "outputs": [
    {
     "data": {
      "text/plain": [
       "LinearRegression()"
      ]
     },
     "execution_count": 13,
     "metadata": {},
     "output_type": "execute_result"
    }
   ],
   "source": [
    "lr = linear_model.LinearRegression()\n",
    "lr.fit(X_train, y_train)"
   ]
  },
  {
   "cell_type": "code",
   "execution_count": 14,
   "id": "f613a1d7",
   "metadata": {},
   "outputs": [
    {
     "data": {
      "text/plain": [
       "158868.4461636531"
      ]
     },
     "execution_count": 14,
     "metadata": {},
     "output_type": "execute_result"
    }
   ],
   "source": [
    "metrics.mean_absolute_error(y_train, lr.predict(X_train))"
   ]
  },
  {
   "cell_type": "code",
   "execution_count": 15,
   "id": "ac50402b",
   "metadata": {},
   "outputs": [
    {
     "data": {
      "text/plain": [
       "179841.58438940984"
      ]
     },
     "execution_count": 15,
     "metadata": {},
     "output_type": "execute_result"
    }
   ],
   "source": [
    "metrics.mean_absolute_error(y_test, lr.predict(X_test))"
   ]
  },
  {
   "cell_type": "code",
   "execution_count": 16,
   "id": "a393d239",
   "metadata": {},
   "outputs": [
    {
     "data": {
      "text/plain": [
       "StandardScaler()"
      ]
     },
     "execution_count": 16,
     "metadata": {},
     "output_type": "execute_result"
    }
   ],
   "source": [
    "scale = preprocessing.StandardScaler()\n",
    "scale.fit(X_train)"
   ]
  },
  {
   "cell_type": "code",
   "execution_count": 19,
   "id": "66c093f0",
   "metadata": {},
   "outputs": [],
   "source": [
    "with open('scale.pkl', 'wb') as file:\n",
    "    pickle.dump(scale, file)"
   ]
  },
  {
   "cell_type": "code",
   "execution_count": 20,
   "id": "1b046e67",
   "metadata": {},
   "outputs": [],
   "source": [
    "X_train_norm = scale.transform(X_train)\n",
    "X_test_norm = scale.transform(X_test)"
   ]
  },
  {
   "cell_type": "code",
   "execution_count": 21,
   "id": "f9c10ae4",
   "metadata": {},
   "outputs": [
    {
     "data": {
      "text/plain": [
       "StandardScaler()"
      ]
     },
     "execution_count": 21,
     "metadata": {},
     "output_type": "execute_result"
    }
   ],
   "source": [
    "scale_target = preprocessing.StandardScaler()\n",
    "scale_target.fit(y_train.values.reshape(-1, 1))"
   ]
  },
  {
   "cell_type": "code",
   "execution_count": 22,
   "id": "0fc58a64",
   "metadata": {},
   "outputs": [],
   "source": [
    "with open('scale_target.pkl', 'wb') as file:\n",
    "    pickle.dump(scale_target, file)"
   ]
  },
  {
   "cell_type": "code",
   "execution_count": 23,
   "id": "4c3aded0",
   "metadata": {},
   "outputs": [],
   "source": [
    "y_train_norm = scale_target.transform(y_train.values.reshape(-1, 1))\n",
    "y_test_norm = scale_target.transform(y_test.values.reshape(-1, 1))"
   ]
  },
  {
   "cell_type": "code",
   "execution_count": 24,
   "id": "b5e7613c",
   "metadata": {},
   "outputs": [
    {
     "data": {
      "text/plain": [
       "LinearRegression()"
      ]
     },
     "execution_count": 24,
     "metadata": {},
     "output_type": "execute_result"
    }
   ],
   "source": [
    "lr1 = linear_model.LinearRegression()\n",
    "lr1.fit(X_train_norm, y_train_norm)"
   ]
  },
  {
   "cell_type": "code",
   "execution_count": 25,
   "id": "f2536e36",
   "metadata": {},
   "outputs": [
    {
     "data": {
      "text/plain": [
       "0.8750510258241183"
      ]
     },
     "execution_count": 25,
     "metadata": {},
     "output_type": "execute_result"
    }
   ],
   "source": [
    "metrics.mean_squared_error(y_test_norm, lr1.predict(X_test_norm))"
   ]
  },
  {
   "cell_type": "code",
   "execution_count": 26,
   "id": "938c624b",
   "metadata": {},
   "outputs": [
    {
     "data": {
      "text/plain": [
       "Ridge(alpha=10.0)"
      ]
     },
     "execution_count": 26,
     "metadata": {},
     "output_type": "execute_result"
    }
   ],
   "source": [
    "lr_r = linear_model.Ridge(alpha=10.0)\n",
    "lr_r.fit(X_train_norm, y_train_norm)"
   ]
  },
  {
   "cell_type": "code",
   "execution_count": 27,
   "id": "bf19ddba",
   "metadata": {},
   "outputs": [
    {
     "data": {
      "text/plain": [
       "0.5092418613823816"
      ]
     },
     "execution_count": 27,
     "metadata": {},
     "output_type": "execute_result"
    }
   ],
   "source": [
    "metrics.mean_squared_error(y_train_norm, lr_r.predict(X_train_norm))"
   ]
  },
  {
   "cell_type": "code",
   "execution_count": 28,
   "id": "b98c9928",
   "metadata": {},
   "outputs": [
    {
     "data": {
      "text/plain": [
       "0.8756608410099462"
      ]
     },
     "execution_count": 28,
     "metadata": {},
     "output_type": "execute_result"
    }
   ],
   "source": [
    "metrics.mean_squared_error(y_test_norm, lr_r.predict(X_test_norm))"
   ]
  },
  {
   "cell_type": "code",
   "execution_count": 29,
   "id": "7947f63e",
   "metadata": {},
   "outputs": [
    {
     "data": {
      "text/plain": [
       "XGBRegressor(learning_rate=0.01, max_depth=10, min_samples_split=2,\n",
       "             n_estimators=1000)"
      ]
     },
     "execution_count": 29,
     "metadata": {},
     "output_type": "execute_result"
    }
   ],
   "source": [
    "params = {\n",
    "    \"n_estimators\": 1000,\n",
    "    \"max_depth\": 10,\n",
    "    \"min_samples_split\": 2,\n",
    "    \"learning_rate\": 0.01,\n",
    "}\n",
    "xgb = xgboost.XGBRegressor(**params, silent=True)\n",
    "xgb.fit(X_train_norm, y_train_norm)"
   ]
  },
  {
   "cell_type": "code",
   "execution_count": 30,
   "id": "8b2e31d8",
   "metadata": {},
   "outputs": [
    {
     "data": {
      "text/plain": [
       "0.00020106718608173122"
      ]
     },
     "execution_count": 30,
     "metadata": {},
     "output_type": "execute_result"
    }
   ],
   "source": [
    "metrics.mean_squared_error(y_train_norm, xgb.predict(X_train_norm))"
   ]
  },
  {
   "cell_type": "code",
   "execution_count": 31,
   "id": "e7e4b2fb",
   "metadata": {},
   "outputs": [
    {
     "data": {
      "text/plain": [
       "0.5759228518253148"
      ]
     },
     "execution_count": 31,
     "metadata": {},
     "output_type": "execute_result"
    }
   ],
   "source": [
    "metrics.mean_squared_error(y_test_norm, xgb.predict(X_test_norm))"
   ]
  },
  {
   "cell_type": "code",
   "execution_count": 32,
   "id": "13203a00",
   "metadata": {},
   "outputs": [
    {
     "data": {
      "text/plain": [
       "array([0.273724  , 0.26498154, 0.09625544, 0.09229315, 0.0748635 ,\n",
       "       0.06392714, 0.08361701, 0.0503382 ], dtype=float32)"
      ]
     },
     "execution_count": 32,
     "metadata": {},
     "output_type": "execute_result"
    }
   ],
   "source": [
    "xgb.feature_importances_"
   ]
  },
  {
   "cell_type": "code",
   "execution_count": 33,
   "id": "3fb9245d",
   "metadata": {},
   "outputs": [
    {
     "data": {
      "image/png": "[encoded data removed]",
      "text/plain": [
       "<Figure size 864x432 with 1 Axes>"
      ]
     },
     "metadata": {
      "needs_background": "light"
     },
     "output_type": "display_data"
    }
   ],
   "source": [
    "plt.figure(figsize=(12, 6))\n",
    "# Plot feature importance\n",
    "feature_importance = xgb.feature_importances_\n",
    "# make importances relative to max importance\n",
    "feature_importance = 100.0 * (feature_importance / feature_importance.max())\n",
    "sorted_idx = np.argsort(feature_importance)\n",
    "pos = np.arange(sorted_idx.shape[0]) + 0.5\n",
    "plt.subplot(1, 2, 2)\n",
    "plt.barh(pos, feature_importance[sorted_idx], align=\"center\")\n",
    "plt.yticks(pos, X.columns[sorted_idx])\n",
    "plt.xlabel(\"Relative Importance\")\n",
    "plt.title(\"Variable Importance\")\n",
    "plt.show()"
   ]
  },
  {
   "cell_type": "code",
   "execution_count": 34,
   "id": "70f4a24d",
   "metadata": {},
   "outputs": [],
   "source": [
    "with open('xgb.pkl', 'wb') as file:\n",
    "    pickle.dump(xgb, file)"
   ]
  },
  {
   "cell_type": "code",
   "execution_count": 35,
   "id": "dac89ea2",
   "metadata": {},
   "outputs": [],
   "source": [
    "np.random.seed(42)\n",
    "\n",
    "mse_sample = []\n",
    "for n_estimators in range(300, 1100, 100):\n",
    "    for max_depth in range(2, 10, 1):\n",
    "        for min_samples_split in range(2, 4, 1):\n",
    "            xgb1 = xgboost.XGBRegressor(\n",
    "                n_estimators=n_estimators,\n",
    "                max_depth=max_depth,\n",
    "                min_samples_split=min_samples_split,\n",
    "            )\n",
    "            xgb1.fit(X_train_norm, y_train_norm)\n",
    "            xgb1_predict = xgb1.predict(X_test_norm)\n",
    "            mse_sample.append(\n",
    "                [\n",
    "                    n_estimators,\n",
    "                    max_depth,\n",
    "                    min_samples_split,\n",
    "                    np.sum((y_test_norm - xgb1_predict) ** 2),\n",
    "                ]\n",
    "            )"
   ]
  },
  {
   "cell_type": "code",
   "execution_count": 36,
   "id": "12a21518",
   "metadata": {},
   "outputs": [
    {
     "data": {
      "text/plain": [
       "[300, 2, 2, 427862.1873120368]"
      ]
     },
     "execution_count": 36,
     "metadata": {},
     "output_type": "execute_result"
    }
   ],
   "source": [
    "sorted(mse_sample, key=lambda x: x[3])[0]"
   ]
  },
  {
   "cell_type": "code",
   "execution_count": 37,
   "id": "4f3d7aa0",
   "metadata": {},
   "outputs": [
    {
     "data": {
      "text/plain": [
       "XGBRegressor(learning_rate=0.01, max_depth=2, min_samples_split=2,\n",
       "             n_estimators=300)"
      ]
     },
     "execution_count": 37,
     "metadata": {},
     "output_type": "execute_result"
    }
   ],
   "source": [
    "params = {\n",
    "    \"n_estimators\": 300,\n",
    "    \"max_depth\": 2,\n",
    "    \"min_samples_split\": 2,\n",
    "    \"learning_rate\": 0.01,\n",
    "}\n",
    "xgb1 = xgboost.XGBRegressor(**params, silent=True)\n",
    "xgb1.fit(X_train_norm, y_train_norm)"
   ]
  },
  {
   "cell_type": "code",
   "execution_count": 38,
   "id": "d5cb7fd6",
   "metadata": {},
   "outputs": [
    {
     "data": {
      "text/plain": [
       "0.3460875607310865"
      ]
     },
     "execution_count": 38,
     "metadata": {},
     "output_type": "execute_result"
    }
   ],
   "source": [
    "metrics.mean_squared_error(y_train_norm, xgb1.predict(X_train_norm))"
   ]
  },
  {
   "cell_type": "code",
   "execution_count": 39,
   "id": "5a2a4e37",
   "metadata": {},
   "outputs": [
    {
     "data": {
      "text/plain": [
       "0.6876778246100026"
      ]
     },
     "execution_count": 39,
     "metadata": {},
     "output_type": "execute_result"
    }
   ],
   "source": [
    "metrics.mean_squared_error(y_test_norm, xgb1.predict(X_test_norm))"
   ]
  },
  {
   "cell_type": "code",
   "execution_count": null,
   "id": "9c4fd352",
   "metadata": {},
   "outputs": [],
   "source": []
  }
 ],
 "metadata": {
  "kernelspec": {
   "display_name": "Python 3 (ipykernel)",
   "language": "python",
   "name": "python3"
  },
  "language_info": {
   "codemirror_mode": {
    "name": "ipython",
    "version": 3
   },
   "file_extension": ".py",
   "mimetype": "text/x-python",
   "name": "python",
   "nbconvert_exporter": "python",
   "pygments_lexer": "ipython3",
   "version": "3.8.8"
  }
 },
 "nbformat": 4,
 "nbformat_minor": 5
}
